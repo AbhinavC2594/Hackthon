{
 "cells": [
  {
   "cell_type": "markdown",
   "id": "6962bcbb",
   "metadata": {},
   "source": [
    "# Importing all libraries"
   ]
  },
  {
   "cell_type": "code",
   "execution_count": 3,
   "id": "f0994a10",
   "metadata": {},
   "outputs": [],
   "source": [
    "import numpy as np\n",
    "import pandas as pd\n",
    "import matplotlib.pyplot as plt\n",
    "import seaborn as sns"
   ]
  },
  {
   "cell_type": "code",
   "execution_count": 4,
   "id": "adaa5e86",
   "metadata": {},
   "outputs": [],
   "source": [
    "df1 = pd.read_csv(r\"C:\\Users\\dell\\Downloads\\deliveries.csv\")"
   ]
  },
  {
   "cell_type": "code",
   "execution_count": 5,
   "id": "76c79a9c",
   "metadata": {},
   "outputs": [
    {
     "data": {
      "text/html": [
       "<div>\n",
       "<style scoped>\n",
       "    .dataframe tbody tr th:only-of-type {\n",
       "        vertical-align: middle;\n",
       "    }\n",
       "\n",
       "    .dataframe tbody tr th {\n",
       "        vertical-align: top;\n",
       "    }\n",
       "\n",
       "    .dataframe thead th {\n",
       "        text-align: right;\n",
       "    }\n",
       "</style>\n",
       "<table border=\"1\" class=\"dataframe\">\n",
       "  <thead>\n",
       "    <tr style=\"text-align: right;\">\n",
       "      <th></th>\n",
       "      <th>match_id</th>\n",
       "      <th>inning</th>\n",
       "      <th>batting_team</th>\n",
       "      <th>bowling_team</th>\n",
       "      <th>over</th>\n",
       "      <th>ball</th>\n",
       "      <th>batsman</th>\n",
       "      <th>non_striker</th>\n",
       "      <th>bowler</th>\n",
       "      <th>is_super_over</th>\n",
       "      <th>...</th>\n",
       "      <th>bye_runs</th>\n",
       "      <th>legbye_runs</th>\n",
       "      <th>noball_runs</th>\n",
       "      <th>penalty_runs</th>\n",
       "      <th>batsman_runs</th>\n",
       "      <th>extra_runs</th>\n",
       "      <th>total_runs</th>\n",
       "      <th>player_dismissed</th>\n",
       "      <th>dismissal_kind</th>\n",
       "      <th>fielder</th>\n",
       "    </tr>\n",
       "  </thead>\n",
       "  <tbody>\n",
       "    <tr>\n",
       "      <th>0</th>\n",
       "      <td>1</td>\n",
       "      <td>1</td>\n",
       "      <td>Sunrisers Hyderabad</td>\n",
       "      <td>Royal Challengers Bangalore</td>\n",
       "      <td>1</td>\n",
       "      <td>1</td>\n",
       "      <td>DA Warner</td>\n",
       "      <td>S Dhawan</td>\n",
       "      <td>TS Mills</td>\n",
       "      <td>0</td>\n",
       "      <td>...</td>\n",
       "      <td>0</td>\n",
       "      <td>0</td>\n",
       "      <td>0</td>\n",
       "      <td>0</td>\n",
       "      <td>0</td>\n",
       "      <td>0</td>\n",
       "      <td>0</td>\n",
       "      <td>NaN</td>\n",
       "      <td>NaN</td>\n",
       "      <td>NaN</td>\n",
       "    </tr>\n",
       "    <tr>\n",
       "      <th>1</th>\n",
       "      <td>1</td>\n",
       "      <td>1</td>\n",
       "      <td>Sunrisers Hyderabad</td>\n",
       "      <td>Royal Challengers Bangalore</td>\n",
       "      <td>1</td>\n",
       "      <td>2</td>\n",
       "      <td>DA Warner</td>\n",
       "      <td>S Dhawan</td>\n",
       "      <td>TS Mills</td>\n",
       "      <td>0</td>\n",
       "      <td>...</td>\n",
       "      <td>0</td>\n",
       "      <td>0</td>\n",
       "      <td>0</td>\n",
       "      <td>0</td>\n",
       "      <td>0</td>\n",
       "      <td>0</td>\n",
       "      <td>0</td>\n",
       "      <td>NaN</td>\n",
       "      <td>NaN</td>\n",
       "      <td>NaN</td>\n",
       "    </tr>\n",
       "    <tr>\n",
       "      <th>2</th>\n",
       "      <td>1</td>\n",
       "      <td>1</td>\n",
       "      <td>Sunrisers Hyderabad</td>\n",
       "      <td>Royal Challengers Bangalore</td>\n",
       "      <td>1</td>\n",
       "      <td>3</td>\n",
       "      <td>DA Warner</td>\n",
       "      <td>S Dhawan</td>\n",
       "      <td>TS Mills</td>\n",
       "      <td>0</td>\n",
       "      <td>...</td>\n",
       "      <td>0</td>\n",
       "      <td>0</td>\n",
       "      <td>0</td>\n",
       "      <td>0</td>\n",
       "      <td>4</td>\n",
       "      <td>0</td>\n",
       "      <td>4</td>\n",
       "      <td>NaN</td>\n",
       "      <td>NaN</td>\n",
       "      <td>NaN</td>\n",
       "    </tr>\n",
       "    <tr>\n",
       "      <th>3</th>\n",
       "      <td>1</td>\n",
       "      <td>1</td>\n",
       "      <td>Sunrisers Hyderabad</td>\n",
       "      <td>Royal Challengers Bangalore</td>\n",
       "      <td>1</td>\n",
       "      <td>4</td>\n",
       "      <td>DA Warner</td>\n",
       "      <td>S Dhawan</td>\n",
       "      <td>TS Mills</td>\n",
       "      <td>0</td>\n",
       "      <td>...</td>\n",
       "      <td>0</td>\n",
       "      <td>0</td>\n",
       "      <td>0</td>\n",
       "      <td>0</td>\n",
       "      <td>0</td>\n",
       "      <td>0</td>\n",
       "      <td>0</td>\n",
       "      <td>NaN</td>\n",
       "      <td>NaN</td>\n",
       "      <td>NaN</td>\n",
       "    </tr>\n",
       "    <tr>\n",
       "      <th>4</th>\n",
       "      <td>1</td>\n",
       "      <td>1</td>\n",
       "      <td>Sunrisers Hyderabad</td>\n",
       "      <td>Royal Challengers Bangalore</td>\n",
       "      <td>1</td>\n",
       "      <td>5</td>\n",
       "      <td>DA Warner</td>\n",
       "      <td>S Dhawan</td>\n",
       "      <td>TS Mills</td>\n",
       "      <td>0</td>\n",
       "      <td>...</td>\n",
       "      <td>0</td>\n",
       "      <td>0</td>\n",
       "      <td>0</td>\n",
       "      <td>0</td>\n",
       "      <td>0</td>\n",
       "      <td>2</td>\n",
       "      <td>2</td>\n",
       "      <td>NaN</td>\n",
       "      <td>NaN</td>\n",
       "      <td>NaN</td>\n",
       "    </tr>\n",
       "  </tbody>\n",
       "</table>\n",
       "<p>5 rows × 21 columns</p>\n",
       "</div>"
      ],
      "text/plain": [
       "   match_id  inning         batting_team                 bowling_team  over  \\\n",
       "0         1       1  Sunrisers Hyderabad  Royal Challengers Bangalore     1   \n",
       "1         1       1  Sunrisers Hyderabad  Royal Challengers Bangalore     1   \n",
       "2         1       1  Sunrisers Hyderabad  Royal Challengers Bangalore     1   \n",
       "3         1       1  Sunrisers Hyderabad  Royal Challengers Bangalore     1   \n",
       "4         1       1  Sunrisers Hyderabad  Royal Challengers Bangalore     1   \n",
       "\n",
       "   ball    batsman non_striker    bowler  is_super_over  ...  bye_runs  \\\n",
       "0     1  DA Warner    S Dhawan  TS Mills              0  ...         0   \n",
       "1     2  DA Warner    S Dhawan  TS Mills              0  ...         0   \n",
       "2     3  DA Warner    S Dhawan  TS Mills              0  ...         0   \n",
       "3     4  DA Warner    S Dhawan  TS Mills              0  ...         0   \n",
       "4     5  DA Warner    S Dhawan  TS Mills              0  ...         0   \n",
       "\n",
       "   legbye_runs  noball_runs  penalty_runs  batsman_runs  extra_runs  \\\n",
       "0            0            0             0             0           0   \n",
       "1            0            0             0             0           0   \n",
       "2            0            0             0             4           0   \n",
       "3            0            0             0             0           0   \n",
       "4            0            0             0             0           2   \n",
       "\n",
       "   total_runs  player_dismissed dismissal_kind fielder  \n",
       "0           0               NaN            NaN     NaN  \n",
       "1           0               NaN            NaN     NaN  \n",
       "2           4               NaN            NaN     NaN  \n",
       "3           0               NaN            NaN     NaN  \n",
       "4           2               NaN            NaN     NaN  \n",
       "\n",
       "[5 rows x 21 columns]"
      ]
     },
     "execution_count": 5,
     "metadata": {},
     "output_type": "execute_result"
    }
   ],
   "source": [
    "df1.head()"
   ]
  },
  {
   "cell_type": "code",
   "execution_count": 6,
   "id": "3491f97c",
   "metadata": {},
   "outputs": [],
   "source": [
    "df2 = pd.read_csv(r\"C:\\Users\\dell\\Downloads\\matches.csv\")"
   ]
  },
  {
   "cell_type": "code",
   "execution_count": 7,
   "id": "3f80d83b",
   "metadata": {},
   "outputs": [
    {
     "data": {
      "text/html": [
       "<div>\n",
       "<style scoped>\n",
       "    .dataframe tbody tr th:only-of-type {\n",
       "        vertical-align: middle;\n",
       "    }\n",
       "\n",
       "    .dataframe tbody tr th {\n",
       "        vertical-align: top;\n",
       "    }\n",
       "\n",
       "    .dataframe thead th {\n",
       "        text-align: right;\n",
       "    }\n",
       "</style>\n",
       "<table border=\"1\" class=\"dataframe\">\n",
       "  <thead>\n",
       "    <tr style=\"text-align: right;\">\n",
       "      <th></th>\n",
       "      <th>id</th>\n",
       "      <th>season</th>\n",
       "      <th>city</th>\n",
       "      <th>date</th>\n",
       "      <th>team1</th>\n",
       "      <th>team2</th>\n",
       "      <th>toss_winner</th>\n",
       "      <th>toss_decision</th>\n",
       "      <th>result</th>\n",
       "      <th>dl_applied</th>\n",
       "      <th>winner</th>\n",
       "      <th>win_by_runs</th>\n",
       "      <th>win_by_wickets</th>\n",
       "      <th>player_of_match</th>\n",
       "      <th>venue</th>\n",
       "      <th>umpire1</th>\n",
       "      <th>umpire2</th>\n",
       "      <th>umpire3</th>\n",
       "    </tr>\n",
       "  </thead>\n",
       "  <tbody>\n",
       "    <tr>\n",
       "      <th>0</th>\n",
       "      <td>1</td>\n",
       "      <td>2017</td>\n",
       "      <td>Hyderabad</td>\n",
       "      <td>4/5/2017</td>\n",
       "      <td>Sunrisers Hyderabad</td>\n",
       "      <td>Royal Challengers Bangalore</td>\n",
       "      <td>Royal Challengers Bangalore</td>\n",
       "      <td>field</td>\n",
       "      <td>normal</td>\n",
       "      <td>0</td>\n",
       "      <td>Sunrisers Hyderabad</td>\n",
       "      <td>35</td>\n",
       "      <td>0</td>\n",
       "      <td>Yuvraj Singh</td>\n",
       "      <td>Rajiv Gandhi International Stadium, Uppal</td>\n",
       "      <td>AY Dandekar</td>\n",
       "      <td>NJ Llong</td>\n",
       "      <td>NaN</td>\n",
       "    </tr>\n",
       "    <tr>\n",
       "      <th>1</th>\n",
       "      <td>2</td>\n",
       "      <td>2017</td>\n",
       "      <td>Pune</td>\n",
       "      <td>4/6/2017</td>\n",
       "      <td>Mumbai Indians</td>\n",
       "      <td>Rising Pune Supergiant</td>\n",
       "      <td>Rising Pune Supergiant</td>\n",
       "      <td>field</td>\n",
       "      <td>normal</td>\n",
       "      <td>0</td>\n",
       "      <td>Rising Pune Supergiant</td>\n",
       "      <td>0</td>\n",
       "      <td>7</td>\n",
       "      <td>SPD Smith</td>\n",
       "      <td>Maharashtra Cricket Association Stadium</td>\n",
       "      <td>A Nand Kishore</td>\n",
       "      <td>S Ravi</td>\n",
       "      <td>NaN</td>\n",
       "    </tr>\n",
       "    <tr>\n",
       "      <th>2</th>\n",
       "      <td>3</td>\n",
       "      <td>2017</td>\n",
       "      <td>Rajkot</td>\n",
       "      <td>4/7/2017</td>\n",
       "      <td>Gujarat Lions</td>\n",
       "      <td>Kolkata Knight Riders</td>\n",
       "      <td>Kolkata Knight Riders</td>\n",
       "      <td>field</td>\n",
       "      <td>normal</td>\n",
       "      <td>0</td>\n",
       "      <td>Kolkata Knight Riders</td>\n",
       "      <td>0</td>\n",
       "      <td>10</td>\n",
       "      <td>CA Lynn</td>\n",
       "      <td>Saurashtra Cricket Association Stadium</td>\n",
       "      <td>Nitin Menon</td>\n",
       "      <td>CK Nandan</td>\n",
       "      <td>NaN</td>\n",
       "    </tr>\n",
       "    <tr>\n",
       "      <th>3</th>\n",
       "      <td>4</td>\n",
       "      <td>2017</td>\n",
       "      <td>Indore</td>\n",
       "      <td>4/8/2017</td>\n",
       "      <td>Rising Pune Supergiant</td>\n",
       "      <td>Kings XI Punjab</td>\n",
       "      <td>Kings XI Punjab</td>\n",
       "      <td>field</td>\n",
       "      <td>normal</td>\n",
       "      <td>0</td>\n",
       "      <td>Kings XI Punjab</td>\n",
       "      <td>0</td>\n",
       "      <td>6</td>\n",
       "      <td>GJ Maxwell</td>\n",
       "      <td>Holkar Cricket Stadium</td>\n",
       "      <td>AK Chaudhary</td>\n",
       "      <td>C Shamshuddin</td>\n",
       "      <td>NaN</td>\n",
       "    </tr>\n",
       "    <tr>\n",
       "      <th>4</th>\n",
       "      <td>5</td>\n",
       "      <td>2017</td>\n",
       "      <td>Bangalore</td>\n",
       "      <td>4/8/2017</td>\n",
       "      <td>Royal Challengers Bangalore</td>\n",
       "      <td>Delhi Daredevils</td>\n",
       "      <td>Royal Challengers Bangalore</td>\n",
       "      <td>bat</td>\n",
       "      <td>normal</td>\n",
       "      <td>0</td>\n",
       "      <td>Royal Challengers Bangalore</td>\n",
       "      <td>15</td>\n",
       "      <td>0</td>\n",
       "      <td>KM Jadhav</td>\n",
       "      <td>M Chinnaswamy Stadium</td>\n",
       "      <td>NaN</td>\n",
       "      <td>NaN</td>\n",
       "      <td>NaN</td>\n",
       "    </tr>\n",
       "  </tbody>\n",
       "</table>\n",
       "</div>"
      ],
      "text/plain": [
       "   id  season       city      date                        team1  \\\n",
       "0   1    2017  Hyderabad  4/5/2017          Sunrisers Hyderabad   \n",
       "1   2    2017       Pune  4/6/2017               Mumbai Indians   \n",
       "2   3    2017     Rajkot  4/7/2017                Gujarat Lions   \n",
       "3   4    2017     Indore  4/8/2017       Rising Pune Supergiant   \n",
       "4   5    2017  Bangalore  4/8/2017  Royal Challengers Bangalore   \n",
       "\n",
       "                         team2                  toss_winner toss_decision  \\\n",
       "0  Royal Challengers Bangalore  Royal Challengers Bangalore         field   \n",
       "1       Rising Pune Supergiant       Rising Pune Supergiant         field   \n",
       "2        Kolkata Knight Riders        Kolkata Knight Riders         field   \n",
       "3              Kings XI Punjab              Kings XI Punjab         field   \n",
       "4             Delhi Daredevils  Royal Challengers Bangalore           bat   \n",
       "\n",
       "   result  dl_applied                       winner  win_by_runs  \\\n",
       "0  normal           0          Sunrisers Hyderabad           35   \n",
       "1  normal           0       Rising Pune Supergiant            0   \n",
       "2  normal           0        Kolkata Knight Riders            0   \n",
       "3  normal           0              Kings XI Punjab            0   \n",
       "4  normal           0  Royal Challengers Bangalore           15   \n",
       "\n",
       "   win_by_wickets player_of_match                                      venue  \\\n",
       "0               0    Yuvraj Singh  Rajiv Gandhi International Stadium, Uppal   \n",
       "1               7       SPD Smith    Maharashtra Cricket Association Stadium   \n",
       "2              10         CA Lynn     Saurashtra Cricket Association Stadium   \n",
       "3               6      GJ Maxwell                     Holkar Cricket Stadium   \n",
       "4               0       KM Jadhav                      M Chinnaswamy Stadium   \n",
       "\n",
       "          umpire1        umpire2 umpire3  \n",
       "0     AY Dandekar       NJ Llong     NaN  \n",
       "1  A Nand Kishore         S Ravi     NaN  \n",
       "2     Nitin Menon      CK Nandan     NaN  \n",
       "3    AK Chaudhary  C Shamshuddin     NaN  \n",
       "4             NaN            NaN     NaN  "
      ]
     },
     "execution_count": 7,
     "metadata": {},
     "output_type": "execute_result"
    }
   ],
   "source": [
    "df2.head()"
   ]
  },
  {
   "cell_type": "code",
   "execution_count": 17,
   "id": "28f6b5d0",
   "metadata": {},
   "outputs": [],
   "source": [
    "merged_data = pd.merge(df1, df2, left_on='match_id', right_on='id')"
   ]
  },
  {
   "cell_type": "code",
   "execution_count": 18,
   "id": "4addcd18",
   "metadata": {},
   "outputs": [
    {
     "data": {
      "text/html": [
       "<div>\n",
       "<style scoped>\n",
       "    .dataframe tbody tr th:only-of-type {\n",
       "        vertical-align: middle;\n",
       "    }\n",
       "\n",
       "    .dataframe tbody tr th {\n",
       "        vertical-align: top;\n",
       "    }\n",
       "\n",
       "    .dataframe thead th {\n",
       "        text-align: right;\n",
       "    }\n",
       "</style>\n",
       "<table border=\"1\" class=\"dataframe\">\n",
       "  <thead>\n",
       "    <tr style=\"text-align: right;\">\n",
       "      <th></th>\n",
       "      <th>match_id</th>\n",
       "      <th>inning</th>\n",
       "      <th>batting_team</th>\n",
       "      <th>bowling_team</th>\n",
       "      <th>over</th>\n",
       "      <th>ball</th>\n",
       "      <th>batsman</th>\n",
       "      <th>non_striker</th>\n",
       "      <th>bowler</th>\n",
       "      <th>is_super_over</th>\n",
       "      <th>...</th>\n",
       "      <th>result</th>\n",
       "      <th>dl_applied</th>\n",
       "      <th>winner</th>\n",
       "      <th>win_by_runs</th>\n",
       "      <th>win_by_wickets</th>\n",
       "      <th>player_of_match</th>\n",
       "      <th>venue</th>\n",
       "      <th>umpire1</th>\n",
       "      <th>umpire2</th>\n",
       "      <th>umpire3</th>\n",
       "    </tr>\n",
       "  </thead>\n",
       "  <tbody>\n",
       "    <tr>\n",
       "      <th>0</th>\n",
       "      <td>1</td>\n",
       "      <td>1</td>\n",
       "      <td>Sunrisers Hyderabad</td>\n",
       "      <td>Royal Challengers Bangalore</td>\n",
       "      <td>1</td>\n",
       "      <td>1</td>\n",
       "      <td>DA Warner</td>\n",
       "      <td>S Dhawan</td>\n",
       "      <td>TS Mills</td>\n",
       "      <td>0</td>\n",
       "      <td>...</td>\n",
       "      <td>normal</td>\n",
       "      <td>0</td>\n",
       "      <td>Sunrisers Hyderabad</td>\n",
       "      <td>35</td>\n",
       "      <td>0</td>\n",
       "      <td>Yuvraj Singh</td>\n",
       "      <td>Rajiv Gandhi International Stadium, Uppal</td>\n",
       "      <td>AY Dandekar</td>\n",
       "      <td>NJ Llong</td>\n",
       "      <td>NaN</td>\n",
       "    </tr>\n",
       "    <tr>\n",
       "      <th>1</th>\n",
       "      <td>1</td>\n",
       "      <td>1</td>\n",
       "      <td>Sunrisers Hyderabad</td>\n",
       "      <td>Royal Challengers Bangalore</td>\n",
       "      <td>1</td>\n",
       "      <td>2</td>\n",
       "      <td>DA Warner</td>\n",
       "      <td>S Dhawan</td>\n",
       "      <td>TS Mills</td>\n",
       "      <td>0</td>\n",
       "      <td>...</td>\n",
       "      <td>normal</td>\n",
       "      <td>0</td>\n",
       "      <td>Sunrisers Hyderabad</td>\n",
       "      <td>35</td>\n",
       "      <td>0</td>\n",
       "      <td>Yuvraj Singh</td>\n",
       "      <td>Rajiv Gandhi International Stadium, Uppal</td>\n",
       "      <td>AY Dandekar</td>\n",
       "      <td>NJ Llong</td>\n",
       "      <td>NaN</td>\n",
       "    </tr>\n",
       "    <tr>\n",
       "      <th>2</th>\n",
       "      <td>1</td>\n",
       "      <td>1</td>\n",
       "      <td>Sunrisers Hyderabad</td>\n",
       "      <td>Royal Challengers Bangalore</td>\n",
       "      <td>1</td>\n",
       "      <td>3</td>\n",
       "      <td>DA Warner</td>\n",
       "      <td>S Dhawan</td>\n",
       "      <td>TS Mills</td>\n",
       "      <td>0</td>\n",
       "      <td>...</td>\n",
       "      <td>normal</td>\n",
       "      <td>0</td>\n",
       "      <td>Sunrisers Hyderabad</td>\n",
       "      <td>35</td>\n",
       "      <td>0</td>\n",
       "      <td>Yuvraj Singh</td>\n",
       "      <td>Rajiv Gandhi International Stadium, Uppal</td>\n",
       "      <td>AY Dandekar</td>\n",
       "      <td>NJ Llong</td>\n",
       "      <td>NaN</td>\n",
       "    </tr>\n",
       "    <tr>\n",
       "      <th>3</th>\n",
       "      <td>1</td>\n",
       "      <td>1</td>\n",
       "      <td>Sunrisers Hyderabad</td>\n",
       "      <td>Royal Challengers Bangalore</td>\n",
       "      <td>1</td>\n",
       "      <td>4</td>\n",
       "      <td>DA Warner</td>\n",
       "      <td>S Dhawan</td>\n",
       "      <td>TS Mills</td>\n",
       "      <td>0</td>\n",
       "      <td>...</td>\n",
       "      <td>normal</td>\n",
       "      <td>0</td>\n",
       "      <td>Sunrisers Hyderabad</td>\n",
       "      <td>35</td>\n",
       "      <td>0</td>\n",
       "      <td>Yuvraj Singh</td>\n",
       "      <td>Rajiv Gandhi International Stadium, Uppal</td>\n",
       "      <td>AY Dandekar</td>\n",
       "      <td>NJ Llong</td>\n",
       "      <td>NaN</td>\n",
       "    </tr>\n",
       "    <tr>\n",
       "      <th>4</th>\n",
       "      <td>1</td>\n",
       "      <td>1</td>\n",
       "      <td>Sunrisers Hyderabad</td>\n",
       "      <td>Royal Challengers Bangalore</td>\n",
       "      <td>1</td>\n",
       "      <td>5</td>\n",
       "      <td>DA Warner</td>\n",
       "      <td>S Dhawan</td>\n",
       "      <td>TS Mills</td>\n",
       "      <td>0</td>\n",
       "      <td>...</td>\n",
       "      <td>normal</td>\n",
       "      <td>0</td>\n",
       "      <td>Sunrisers Hyderabad</td>\n",
       "      <td>35</td>\n",
       "      <td>0</td>\n",
       "      <td>Yuvraj Singh</td>\n",
       "      <td>Rajiv Gandhi International Stadium, Uppal</td>\n",
       "      <td>AY Dandekar</td>\n",
       "      <td>NJ Llong</td>\n",
       "      <td>NaN</td>\n",
       "    </tr>\n",
       "  </tbody>\n",
       "</table>\n",
       "<p>5 rows × 43 columns</p>\n",
       "</div>"
      ],
      "text/plain": [
       "   match_id  inning         batting_team                 bowling_team  over  \\\n",
       "0         1       1  Sunrisers Hyderabad  Royal Challengers Bangalore     1   \n",
       "1         1       1  Sunrisers Hyderabad  Royal Challengers Bangalore     1   \n",
       "2         1       1  Sunrisers Hyderabad  Royal Challengers Bangalore     1   \n",
       "3         1       1  Sunrisers Hyderabad  Royal Challengers Bangalore     1   \n",
       "4         1       1  Sunrisers Hyderabad  Royal Challengers Bangalore     1   \n",
       "\n",
       "   ball    batsman non_striker    bowler  is_super_over  ...  result  \\\n",
       "0     1  DA Warner    S Dhawan  TS Mills              0  ...  normal   \n",
       "1     2  DA Warner    S Dhawan  TS Mills              0  ...  normal   \n",
       "2     3  DA Warner    S Dhawan  TS Mills              0  ...  normal   \n",
       "3     4  DA Warner    S Dhawan  TS Mills              0  ...  normal   \n",
       "4     5  DA Warner    S Dhawan  TS Mills              0  ...  normal   \n",
       "\n",
       "   dl_applied               winner  win_by_runs  win_by_wickets  \\\n",
       "0           0  Sunrisers Hyderabad           35               0   \n",
       "1           0  Sunrisers Hyderabad           35               0   \n",
       "2           0  Sunrisers Hyderabad           35               0   \n",
       "3           0  Sunrisers Hyderabad           35               0   \n",
       "4           0  Sunrisers Hyderabad           35               0   \n",
       "\n",
       "   player_of_match                                      venue      umpire1  \\\n",
       "0     Yuvraj Singh  Rajiv Gandhi International Stadium, Uppal  AY Dandekar   \n",
       "1     Yuvraj Singh  Rajiv Gandhi International Stadium, Uppal  AY Dandekar   \n",
       "2     Yuvraj Singh  Rajiv Gandhi International Stadium, Uppal  AY Dandekar   \n",
       "3     Yuvraj Singh  Rajiv Gandhi International Stadium, Uppal  AY Dandekar   \n",
       "4     Yuvraj Singh  Rajiv Gandhi International Stadium, Uppal  AY Dandekar   \n",
       "\n",
       "    umpire2 umpire3  \n",
       "0  NJ Llong     NaN  \n",
       "1  NJ Llong     NaN  \n",
       "2  NJ Llong     NaN  \n",
       "3  NJ Llong     NaN  \n",
       "4  NJ Llong     NaN  \n",
       "\n",
       "[5 rows x 43 columns]"
      ]
     },
     "execution_count": 18,
     "metadata": {},
     "output_type": "execute_result"
    }
   ],
   "source": [
    "merged_data.head()"
   ]
  },
  {
   "cell_type": "markdown",
   "id": "f951c6cd",
   "metadata": {},
   "source": [
    "1. Which of the following is the right way to merge 2 datasets for getting better insights from the data"
   ]
  },
  {
   "cell_type": "markdown",
   "id": "cb0bace7",
   "metadata": {},
   "source": [
    "Answer 1\n",
    "\n",
    "The correct answer is: None of the above\n",
    "\n",
    "The right way to merge the two datasets for getting better insights from the data would be to use:\n",
    "\n",
    "merged_data = pd.merge(df1, df2, left_on='match_id', right_on='id')\n"
   ]
  },
  {
   "cell_type": "markdown",
   "id": "d3ea978e",
   "metadata": {},
   "source": [
    "2. The column which has the most missing values according to the data is: *"
   ]
  },
  {
   "cell_type": "code",
   "execution_count": 12,
   "id": "aed07409",
   "metadata": {},
   "outputs": [
    {
     "name": "stdout",
     "output_type": "stream",
     "text": [
      "Column with the most missing values: umpire3\n"
     ]
    }
   ],
   "source": [
    "missing_values = df2.isnull().sum()\n",
    "column_with_most_missing_values = missing_values.idxmax()\n",
    "print(\"Column with the most missing values:\", column_with_most_missing_values)"
   ]
  },
  {
   "cell_type": "code",
   "execution_count": 13,
   "id": "d69c3f00",
   "metadata": {},
   "outputs": [
    {
     "name": "stdout",
     "output_type": "stream",
     "text": [
      "Column with the most missing values: fielder\n"
     ]
    }
   ],
   "source": [
    "missing_values = merged_data.isna().sum()\n",
    "column_with_most_missing_values = missing_values.idxmax()\n",
    "print(\"Column with the most missing values:\", column_with_most_missing_values)"
   ]
  },
  {
   "cell_type": "code",
   "execution_count": 15,
   "id": "7e512eb1",
   "metadata": {},
   "outputs": [
    {
     "data": {
      "text/plain": [
       "match_id                 0\n",
       "inning                   0\n",
       "batting_team             0\n",
       "bowling_team             0\n",
       "over                     0\n",
       "ball                     0\n",
       "batsman                  0\n",
       "non_striker              0\n",
       "bowler                   0\n",
       "is_super_over            0\n",
       "wide_runs                0\n",
       "bye_runs                 0\n",
       "legbye_runs              0\n",
       "noball_runs              0\n",
       "penalty_runs             0\n",
       "batsman_runs             0\n",
       "extra_runs               0\n",
       "total_runs               0\n",
       "player_dismissed    170244\n",
       "dismissal_kind      170244\n",
       "fielder             172630\n",
       "dtype: int64"
      ]
     },
     "execution_count": 15,
     "metadata": {},
     "output_type": "execute_result"
    }
   ],
   "source": [
    "df1.isna().sum()"
   ]
  },
  {
   "cell_type": "code",
   "execution_count": 16,
   "id": "f5e9b756",
   "metadata": {},
   "outputs": [
    {
     "data": {
      "text/plain": [
       "id                   0\n",
       "season               0\n",
       "city                 7\n",
       "date                 0\n",
       "team1                0\n",
       "team2                0\n",
       "toss_winner          0\n",
       "toss_decision        0\n",
       "result               0\n",
       "dl_applied           0\n",
       "winner               4\n",
       "win_by_runs          0\n",
       "win_by_wickets       0\n",
       "player_of_match      4\n",
       "venue                0\n",
       "umpire1              2\n",
       "umpire2              2\n",
       "umpire3            637\n",
       "dtype: int64"
      ]
     },
     "execution_count": 16,
     "metadata": {},
     "output_type": "execute_result"
    }
   ],
   "source": [
    "df2.isna().sum()"
   ]
  },
  {
   "cell_type": "markdown",
   "id": "d40270cf",
   "metadata": {},
   "source": [
    "3. City which hosted most number of seasons according to the data is:"
   ]
  },
  {
   "cell_type": "code",
   "execution_count": 17,
   "id": "eb790ddf",
   "metadata": {},
   "outputs": [
    {
     "name": "stdout",
     "output_type": "stream",
     "text": [
      "City with the maximum hosted matches: Mumbai\n"
     ]
    }
   ],
   "source": [
    "city_counts = df2['city'].value_counts()\n",
    "sorted_city_counts = city_counts.sort_values(ascending=False)\n",
    "max_hosted_city = sorted_city_counts.index[0]\n",
    "\n",
    "print(\"City with the maximum hosted matches:\", max_hosted_city)"
   ]
  },
  {
   "cell_type": "markdown",
   "id": "d0ba7b2c",
   "metadata": {},
   "source": [
    "4. Which year has the most number of matches played? *"
   ]
  },
  {
   "cell_type": "code",
   "execution_count": 28,
   "id": "33958eee",
   "metadata": {},
   "outputs": [
    {
     "name": "stdout",
     "output_type": "stream",
     "text": [
      "year has the most number of matches played: 2013\n"
     ]
    }
   ],
   "source": [
    "season_counts = df2['season'].value_counts()\n",
    "sorted_season_counts = season_counts.sort_values(ascending=False)\n",
    "max_hosted_season = sorted_season_counts.index[0]\n",
    "\n",
    "print(\"year has the most number of matches played:\", max_hosted_season)"
   ]
  },
  {
   "cell_type": "markdown",
   "id": "f01bd5ef",
   "metadata": {},
   "source": [
    "5. Maximum wins by Mumbai Indians in 2011 are"
   ]
  },
  {
   "cell_type": "code",
   "execution_count": 22,
   "id": "8c65755b",
   "metadata": {},
   "outputs": [
    {
     "name": "stdout",
     "output_type": "stream",
     "text": [
      "Maximum wins by Mumbai Indians in 2011: 10\n"
     ]
    }
   ],
   "source": [
    "mumbai_indians_wins_2011 = df2[(df2['winner'] == 'Mumbai Indians') & (df2['season'] == 2011)]\n",
    "max_wins_by_mumbai_indians_2011 = mumbai_indians_wins_2011['winner'].count()\n",
    "\n",
    "print(\"Maximum wins by Mumbai Indians in 2011:\", max_wins_by_mumbai_indians_2011)"
   ]
  },
  {
   "cell_type": "markdown",
   "id": "6e4a0fe3",
   "metadata": {},
   "source": [
    "6. For 'toss_decision' feature what kind of plot is suitable?"
   ]
  },
  {
   "cell_type": "code",
   "execution_count": 23,
   "id": "e38e1d19",
   "metadata": {},
   "outputs": [
    {
     "data": {
      "image/png": "[encoded data removed]",
      "text/plain": [
       "<Figure size 576x360 with 1 Axes>"
      ]
     },
     "metadata": {
      "needs_background": "light"
     },
     "output_type": "display_data"
    }
   ],
   "source": [
    "plt.figure(figsize=(8, 5))\n",
    "sns.countplot(x='toss_decision', data=df2)\n",
    "\n",
    "plt.title('Toss Decision Distribution')\n",
    "plt.xlabel('Toss Decision')\n",
    "plt.ylabel('Count')\n",
    "\n",
    "plt.show()"
   ]
  },
  {
   "cell_type": "markdown",
   "id": "060c5ea4",
   "metadata": {},
   "source": [
    "7.  What is the percentage of getting bat and field in feature 'toss_descision'?"
   ]
  },
  {
   "cell_type": "code",
   "execution_count": 24,
   "id": "de0ca910",
   "metadata": {},
   "outputs": [
    {
     "name": "stdout",
     "output_type": "stream",
     "text": [
      "Percentage of choosing to bat: 38.8%\n",
      "Percentage of choosing to field: 61.2%\n"
     ]
    }
   ],
   "source": [
    "toss_decision_percentage = df2['toss_decision'].value_counts(normalize=True) * 100\n",
    "\n",
    "percentage_bat = toss_decision_percentage['bat']\n",
    "percentage_field = toss_decision_percentage['field']\n",
    "\n",
    "print(f\"Percentage of choosing to bat: {percentage_bat:.1f}%\")\n",
    "print(f\"Percentage of choosing to field: {percentage_field:.1f}%\")"
   ]
  },
  {
   "cell_type": "markdown",
   "id": "e687887b",
   "metadata": {},
   "source": [
    "8.  Which statement holds true"
   ]
  },
  {
   "cell_type": "code",
   "execution_count": 25,
   "id": "caa7d6b2",
   "metadata": {},
   "outputs": [
    {
     "name": "stdout",
     "output_type": "stream",
     "text": [
      "Matches won by choosing to field first: 460\n",
      "Matches won by choosing to bat first: 292\n",
      "Teams winning tosses and electing field first have won more number of matches.\n"
     ]
    }
   ],
   "source": [
    "field_wins = df2[df2['toss_decision'] == 'field']['winner'].value_counts().sum()\n",
    "\n",
    "bat_wins = df2[df2['toss_decision'] == 'bat']['winner'].value_counts().sum()\n",
    "\n",
    "print(f\"Matches won by choosing to field first: {field_wins}\")\n",
    "print(f\"Matches won by choosing to bat first: {bat_wins}\")\n",
    "\n",
    "if field_wins > bat_wins:\n",
    "    print(\"Teams winning tosses and electing field first have won more number of matches.\")\n",
    "elif bat_wins > field_wins:\n",
    "    print(\"Teams winning tosses and electing bat first have won more number of matches.\")\n",
    "else:\n",
    "    print(\"Both A and B have an equal number of matches.\")\n"
   ]
  },
  {
   "cell_type": "markdown",
   "id": "11dc8a8a",
   "metadata": {},
   "source": [
    "9. In which years where taking batting second have won more number of matches?"
   ]
  },
  {
   "cell_type": "code",
   "execution_count": 26,
   "id": "a133cd55",
   "metadata": {},
   "outputs": [
    {
     "name": "stdout",
     "output_type": "stream",
     "text": [
      "Years in which taking batting second has won more number of matches:\n",
      "2016    32\n",
      "2019    31\n",
      "2017    28\n",
      "2011    27\n",
      "2018    27\n",
      "2014    24\n",
      "2008    19\n",
      "2012    18\n",
      "2013    15\n",
      "2009    14\n",
      "2015    14\n",
      "2010    10\n",
      "Name: season, dtype: int64\n"
     ]
    }
   ],
   "source": [
    "batting_second_wins = df2[(df2['toss_decision'] == 'field') & (df2['toss_winner'] == df2['winner'])]\n",
    "\n",
    "batting_second_wins_by_season = batting_second_wins['season'].value_counts()\n",
    "\n",
    "print(\"Years in which taking batting second has won more number of matches:\")\n",
    "print(batting_second_wins_by_season)"
   ]
  },
  {
   "cell_type": "markdown",
   "id": "4282bb5f",
   "metadata": {},
   "source": [
    "10. To plot the most consistent batsmen among top 10 run getters, what plotting technique we use"
   ]
  },
  {
   "cell_type": "code",
   "execution_count": 29,
   "id": "fde2a5a2",
   "metadata": {},
   "outputs": [
    {
     "data": {
      "image/png": "[encoded data removed]",
      "text/plain": [
       "<Figure size 720x432 with 1 Axes>"
      ]
     },
     "metadata": {
      "needs_background": "light"
     },
     "output_type": "display_data"
    }
   ],
   "source": [
    "total_runs_per_batsman = df1.groupby('batsman')['total_runs'].sum\n",
    "\n",
    "top_10_run_getters = total_runs_per_batsman.nlargest(10)\n",
    "\n",
    "plt.figure(figsize=(10, 6))\n",
    "sns.scatterplot(x=top_10_run_getters.index, y=top_10_run_getters.values, s=100, color='blue')\n",
    "plt.title('Top 10 Run Getters')\n",
    "plt.xlabel('Batsman')\n",
    "plt.ylabel('Total Runs')\n",
    "plt.xticks(rotation=45)\n",
    "plt.show()"
   ]
  },
  {
   "cell_type": "markdown",
   "id": "ddde5044",
   "metadata": {},
   "source": [
    "11. In 2019 which batsman scored highest number of runs by hitting 6's and 4's?"
   ]
  },
  {
   "cell_type": "code",
   "execution_count": 33,
   "id": "3ddea23c",
   "metadata": {},
   "outputs": [
    {
     "name": "stdout",
     "output_type": "stream",
     "text": [
      "In 2019, AD Russell scored the highest number of runs (438) by hitting 4's and 6's.\n"
     ]
    }
   ],
   "source": [
    "runs_4_6_2019 = merged_data[(merged_data['season'] == 2019) & (merged_data['batsman_runs'].isin([4, 6]))]\n",
    "\n",
    "total_runs_by_batsman = runs_4_6_2019.groupby('batsman')['batsman_runs'].sum()\n",
    "\n",
    "highest_runs_batsman = total_runs_by_batsman.idxmax()\n",
    "highest_runs = total_runs_by_batsman.max()\n",
    "\n",
    "print(f\"In 2019, {highest_runs_batsman} scored the highest number of runs ({highest_runs}) by hitting 4's and 6's.\")"
   ]
  },
  {
   "cell_type": "markdown",
   "id": "76245269",
   "metadata": {},
   "source": [
    "12. Most number of wickets taken by a bowler is"
   ]
  },
  {
   "cell_type": "code",
   "execution_count": 35,
   "id": "f0817801",
   "metadata": {},
   "outputs": [
    {
     "name": "stdout",
     "output_type": "stream",
     "text": [
      "The bowler with the most number of wickets is SL Malinga with 188 wickets.\n"
     ]
    }
   ],
   "source": [
    "wickets_data = df1[df1['dismissal_kind'].notna()]\n",
    "\n",
    "wickets_by_bowler = wickets_data['bowler'].value_counts()\n",
    "\n",
    "most_wickets_bowler = wickets_by_bowler.idxmax()\n",
    "most_wickets = wickets_by_bowler.max()\n",
    "\n",
    "print(f\"The bowler with the most number of wickets is {most_wickets_bowler} with {most_wickets} wickets.\")"
   ]
  },
  {
   "cell_type": "markdown",
   "id": "d2fa66a0",
   "metadata": {},
   "source": [
    "13.  What is the strike rate of Kohli in 2016 *\n",
    "HINT: strike rate = (Total Runs / Total Balls Faced) * 100"
   ]
  },
  {
   "cell_type": "code",
   "execution_count": 24,
   "id": "189b0cdf",
   "metadata": {},
   "outputs": [
    {
     "name": "stdout",
     "output_type": "stream",
     "text": [
      "The strike rate of Kohli in 2016 is: 43.34\n"
     ]
    }
   ],
   "source": [
    "kohli_data_2016 = merged_data[(merged_data['season'] == 2016) & (merged_data['batsman'] == 'V Kohli')]\n",
    "\n",
    "total_runs_kohli_2016 = kohli_data_2016['batsman_runs'].sum()\n",
    "\n",
    "total_balls_faced_kohli_2016 = kohli_data_2016['ball'].sum()\n",
    "\n",
    "strike_rate_kohli_2016 = (total_runs_kohli_2016 / total_balls_faced_kohli_2016) * 100\n",
    "\n",
    "print(\"The strike rate of Kohli in 2016 is:\", round(strike_rate_kohli_2016, 2))"
   ]
  },
  {
   "cell_type": "markdown",
   "id": "fe0d42e1",
   "metadata": {},
   "source": [
    "14.  Bowlers with maximum number of extras: *"
   ]
  },
  {
   "cell_type": "code",
   "execution_count": 46,
   "id": "22f6ca60",
   "metadata": {},
   "outputs": [
    {
     "name": "stdout",
     "output_type": "stream",
     "text": [
      "The bowler with the maximum number of extras is SL Malinga with 293 extras.\n"
     ]
    }
   ],
   "source": [
    "extras_by_bowler = df1.groupby('bowler')['extra_runs'].sum()\n",
    "\n",
    "max_extras_bowler = extras_by_bowler.idxmax()\n",
    "max_extras = extras_by_bowler.max()\n",
    "\n",
    "print(f\"The bowler with the maximum number of extras is {max_extras_bowler} with {max_extras} extras.\")\n"
   ]
  },
  {
   "cell_type": "markdown",
   "id": "c1040fc0",
   "metadata": {},
   "source": [
    "15. Which venue has hosted most number of IPL matches?"
   ]
  },
  {
   "cell_type": "code",
   "execution_count": 47,
   "id": "b9570554",
   "metadata": {},
   "outputs": [
    {
     "name": "stdout",
     "output_type": "stream",
     "text": [
      "The venue that has hosted the most number of IPL matches is 'Eden Gardens' with 77 matches.\n"
     ]
    }
   ],
   "source": [
    "matches_per_venue = df2['venue'].value_counts()\n",
    "\n",
    "max_matches_venue = matches_per_venue.idxmax()\n",
    "max_matches_count = matches_per_venue.max()\n",
    "\n",
    "print(f\"The venue that has hosted the most number of IPL matches is '{max_matches_venue}' with {max_matches_count} matches.\")\n"
   ]
  },
  {
   "cell_type": "markdown",
   "id": "dec61616",
   "metadata": {},
   "source": [
    "16. In 2017 when sunrisers hyderabad clashed against Royal Challengers Bangalore which team player won player of the match?"
   ]
  },
  {
   "cell_type": "code",
   "execution_count": 48,
   "id": "19566a5d",
   "metadata": {},
   "outputs": [
    {
     "name": "stdout",
     "output_type": "stream",
     "text": [
      "In 2017, when Sunrisers Hyderabad clashed against Royal Challengers Bangalore, the player of the match was Yuvraj Singh.\n"
     ]
    }
   ],
   "source": [
    "match_info = df2[(df2['team1'] == 'Sunrisers Hyderabad') & (df2['team2'] == 'Royal Challengers Bangalore') & (df2['season'] == 2017)]\n",
    "\n",
    "player_of_match = match_info['player_of_match'].values[0]\n",
    "\n",
    "print(f\"In 2017, when Sunrisers Hyderabad clashed against Royal Challengers Bangalore, the player of the match was {player_of_match}.\")\n"
   ]
  },
  {
   "cell_type": "markdown",
   "id": "2463d953",
   "metadata": {},
   "source": [
    "17. Across seasons who are the top three batsman's with most number of run out?"
   ]
  },
  {
   "cell_type": "code",
   "execution_count": 49,
   "id": "5b9feb64",
   "metadata": {},
   "outputs": [
    {
     "name": "stdout",
     "output_type": "stream",
     "text": [
      "Top three batsmen with the most number of run-outs across seasons:\n",
      "MS Dhoni      21\n",
      "RG Sharma     17\n",
      "KD Karthik    16\n",
      "Name: batsman, dtype: int64\n"
     ]
    }
   ],
   "source": [
    "run_outs = df1[df1['dismissal_kind'] == 'run out']\n",
    "\n",
    "run_out_counts = run_outs['batsman'].value_counts()\n",
    "\n",
    "top_three_run_out_batsmen = run_out_counts.head(3)\n",
    "\n",
    "print(\"Top three batsmen with the most number of run-outs across seasons:\")\n",
    "print(top_three_run_out_batsmen)\n"
   ]
  },
  {
   "cell_type": "markdown",
   "id": "52fc027c",
   "metadata": {},
   "source": [
    "18. What are the total runs scored by V Kohli when the bowler was JJ Burmah?"
   ]
  },
  {
   "cell_type": "code",
   "execution_count": 50,
   "id": "54c6c7da",
   "metadata": {},
   "outputs": [
    {
     "name": "stdout",
     "output_type": "stream",
     "text": [
      "Total runs scored by V Kohli against JJ Bumrah: 112\n"
     ]
    }
   ],
   "source": [
    "kohli_vs_bumrah = df1[(df1['batsman'] == 'V Kohli') & (df1['bowler'] == 'JJ Bumrah')]\n",
    "\n",
    "total_runs_kohli_vs_bumrah = kohli_vs_bumrah['batsman_runs'].sum()\n",
    "\n",
    "print(f\"Total runs scored by V Kohli against JJ Bumrah: {total_runs_kohli_vs_bumrah}\")\n"
   ]
  },
  {
   "cell_type": "markdown",
   "id": "3ffba23f",
   "metadata": {},
   "source": [
    "19. Across all seasons which player was dismissed the maximum number of times via caught and bowled"
   ]
  },
  {
   "cell_type": "code",
   "execution_count": 51,
   "id": "7e8dea98",
   "metadata": {},
   "outputs": [
    {
     "name": "stdout",
     "output_type": "stream",
     "text": [
      "The player dismissed the maximum number of times via caught and bowled across all seasons is SK Raina with 7 dismissals.\n"
     ]
    }
   ],
   "source": [
    "caught_and_bowled_dismissals = df1[df1['dismissal_kind'] == 'caught and bowled']\n",
    "\n",
    "caught_and_bowled_counts = caught_and_bowled_dismissals['batsman'].value_counts()\n",
    "\n",
    "max_caught_and_bowled_player = caught_and_bowled_counts.idxmax()\n",
    "max_caught_and_bowled_count = caught_and_bowled_counts.max()\n",
    "\n",
    "print(f\"The player dismissed the maximum number of times via caught and bowled across all seasons is {max_caught_and_bowled_player} with {max_caught_and_bowled_count} dismissals.\")\n"
   ]
  },
  {
   "cell_type": "markdown",
   "id": "16ad3b04",
   "metadata": {},
   "source": [
    "20. which player has the highest hard-hitting ability? \n",
    "\n",
    "\n",
    "Answer is according to code - B Stanlake\n",
    "\n",
    "Answer is According to players = ['AB de Villiers', 'CH Gayle', 'MS Dhoni', 'V Kohli'] is CH Gayle"
   ]
  },
  {
   "cell_type": "code",
   "execution_count": 26,
   "id": "b4eead7c",
   "metadata": {},
   "outputs": [
    {
     "name": "stdout",
     "output_type": "stream",
     "text": [
      "Player with the highest hard-hitting ability: B Stanlake\n"
     ]
    }
   ],
   "source": [
    "fours_sixes_df = df1.groupby('batsman')['batsman_runs'].value_counts().unstack().fillna(0)\n",
    "fours_sixes_df['total_fours'] = fours_sixes_df[4]\n",
    "fours_sixes_df['total_sixes'] = fours_sixes_df[6]\n",
    "\n",
    "balls_played_df = df1.groupby('batsman')['ball'].count()\n",
    "\n",
    "hard_hitting_df = pd.DataFrame()\n",
    "hard_hitting_df['total_fours'] = fours_sixes_df['total_fours']\n",
    "hard_hitting_df['total_sixes'] = fours_sixes_df['total_sixes']\n",
    "hard_hitting_df['total_balls'] = balls_played_df\n",
    "hard_hitting_df['hard_hitting_ability'] = (hard_hitting_df['total_fours'] + hard_hitting_df['total_sixes']) / hard_hitting_df['total_balls']\n",
    "\n",
    "highest_hard_hitting_player = hard_hitting_df['hard_hitting_ability'].idxmax()\n",
    "\n",
    "print(\"Player with the highest hard-hitting ability:\", highest_hard_hitting_player)"
   ]
  },
  {
   "cell_type": "code",
   "execution_count": 16,
   "id": "50337754",
   "metadata": {},
   "outputs": [
    {
     "name": "stdout",
     "output_type": "stream",
     "text": [
      "Player with the highest hard-hitting ability: CH Gayle\n"
     ]
    },
    {
     "name": "stderr",
     "output_type": "stream",
     "text": [
      "<ipython-input-16-cd8cd63d240a>:5: SettingWithCopyWarning: \n",
      "A value is trying to be set on a copy of a slice from a DataFrame.\n",
      "Try using .loc[row_indexer,col_indexer] = value instead\n",
      "\n",
      "See the caveats in the documentation: https://pandas.pydata.org/pandas-docs/stable/user_guide/indexing.html#returning-a-view-versus-a-copy\n",
      "  filtered_df['hard_hitting_ability'] = (filtered_df['batsman_runs'].isin([4, 6])).astype(int)\n"
     ]
    }
   ],
   "source": [
    "players = ['AB de Villiers', 'CH Gayle', 'MS Dhoni', 'V Kohli']\n",
    "filtered_df = df1[df1['batsman'].isin(players)]\n",
    "\n",
    "filtered_df['hard_hitting_ability'] = (filtered_df['batsman_runs'].isin([4, 6])).astype(int)\n",
    "hard_hitting_stats = filtered_df.groupby('batsman')['hard_hitting_ability'].sum()\n",
    "\n",
    "highest_hard_hitting_player = hard_hitting_stats.idxmax()\n",
    "\n",
    "print(\"Player with the highest hard-hitting ability:\", highest_hard_hitting_player)"
   ]
  }
 ],
 "metadata": {
  "kernelspec": {
   "display_name": "Python 3",
   "language": "python",
   "name": "python3"
  },
  "language_info": {
   "codemirror_mode": {
    "name": "ipython",
    "version": 3
   },
   "file_extension": ".py",
   "mimetype": "text/x-python",
   "name": "python",
   "nbconvert_exporter": "python",
   "pygments_lexer": "ipython3",
   "version": "3.8.8"
  }
 },
 "nbformat": 4,
 "nbformat_minor": 5
}
